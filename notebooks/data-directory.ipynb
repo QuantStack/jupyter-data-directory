{
 "cells": [
  {
   "cell_type": "code",
   "execution_count": 2,
   "id": "honey-surface",
   "metadata": {},
   "outputs": [
    {
     "name": "stdout",
     "output_type": "stream",
     "text": [
      "# Test file for Jupyter Data directory.\r\n",
      "\r\n",
      "This file is located in directory `{prefix}/share/jupyter/data-directory/`,\r\n",
      "where `{prefix}` is the installation prefix.\r\n",
      "\r\n",
      "To serve an other directory of the filesystem instead, you can edit\r\n",
      "the configuration file at `{prefix}/etc/jupyter/jupyter-data-directory.json`.\r\n"
     ]
    }
   ],
   "source": [
    "!curl http://localhost:8888/data/example.md"
   ]
  },
  {
   "cell_type": "code",
   "execution_count": null,
   "id": "alert-brain",
   "metadata": {},
   "outputs": [],
   "source": []
  }
 ],
 "metadata": {
  "kernelspec": {
   "display_name": "Python 3",
   "language": "python",
   "name": "python3"
  },
  "language_info": {
   "codemirror_mode": {
    "name": "ipython",
    "version": 3
   },
   "file_extension": ".py",
   "mimetype": "text/x-python",
   "name": "python",
   "nbconvert_exporter": "python",
   "pygments_lexer": "ipython3",
   "version": "3.8.6"
  }
 },
 "nbformat": 4,
 "nbformat_minor": 5
}
